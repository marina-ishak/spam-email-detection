{
 "cells": [
  {
   "cell_type": "code",
   "execution_count": 1,
   "metadata": {},
   "outputs": [],
   "source": [
    "import numpy as np\n",
    "import pandas as pd\n",
    "from sklearn.feature_extraction.text import CountVectorizer\n",
    "from sklearn.model_selection import train_test_split\n",
    "from sklearn.tree import DecisionTreeClassifier, export_graphviz\n",
    "from sklearn.metrics import accuracy_score, precision_score, recall_score, f1_score\n",
    "from IPython.display import Image, display\n",
    "import graphviz\n"
   ]
  },
  {
   "cell_type": "code",
   "execution_count": 2,
   "metadata": {},
   "outputs": [],
   "source": [
    "# Load the dataset\n",
    "df = pd.read_csv('spam.csv')\n",
    "# Split the dataset\n",
    "x = df['Message'].values\n",
    "y = df['Category'].values\n",
    "x_train, x_test, y_train, y_test = train_test_split(x, y, test_size=0.2, random_state=0)\n"
   ]
  },
  {
   "cell_type": "code",
   "execution_count": 5,
   "metadata": {},
   "outputs": [],
   "source": [
    "\n",
    "# # Convert text data to numerical format using CountVectorizer\n",
    "# cv = CountVectorizer()\n",
    "# x_train = cv.fit_transform(x_train)\n",
    "# x_test = cv.transform(x_test)\n",
    "\n",
    "# # Train the Decision Tree model\n",
    "# model = DecisionTreeClassifier(random_state=0)\n",
    "# model.fit(x_train, y_train)\n",
    "\n",
    "\n",
    "# # Export the Decision Tree to DOT format\n",
    "# dot_data = export_graphviz(model, out_file=None, \n",
    "#                            feature_names=cv.get_feature_names_out(),\n",
    "#                            class_names=model.classes_,\n",
    "#                            filled=True, rounded=True, special_characters=True)\n",
    "\n",
    "# # Render the Decision Tree using Graphviz\n",
    "# graph = graphviz.Source(dot_data)\n",
    "# display(graph)\n",
    "\n",
    "# # Make predictions on the test set\n",
    "# y_pred = model.predict(x_test)\n"
   ]
  },
  {
   "cell_type": "code",
   "execution_count": 4,
   "metadata": {},
   "outputs": [],
   "source": [
    "# Split the dataset\n",
    "x = df['Message'].values\n",
    "y = df['Category'].values\n",
    "x_train, x_test, y_train, y_test = train_test_split(x, y, test_size=0.2, random_state=0)\n",
    "\n",
    "# Convert text data to numerical format using CountVectorizer\n",
    "cv = CountVectorizer()\n",
    "x_train_transformed = cv.fit_transform(x_train)\n",
    "x_test_transformed = cv.transform(x_test)\n",
    "\n",
    "# Convert the transformed data to an array\n",
    "x_train_array = x_train_transformed.toarray()\n",
    "x_test_array = x_test_transformed.toarray()\n",
    "\n",
    "# Train the Decision Tree model\n",
    "model = DecisionTreeClassifier(random_state=0)\n",
    "model.fit(x_train_array, y_train)\n",
    "\n",
    "# # Export the Decision Tree to DOT format\n",
    "# dot_data = export_graphviz(model, out_file=None, \n",
    "#                            feature_names=cv.get_feature_names_out(),\n",
    "#                            class_names=model.classes_,\n",
    "#                            filled=True, rounded=True, special_characters=True)\n",
    "\n",
    "# # Render the Decision Tree using Graphviz\n",
    "# graph = graphviz.Source(dot_data)\n",
    "# display(graph)\n",
    "# # Make predictions on the test set\n",
    "y_pred = model.predict(x_test_array)"
   ]
  },
  {
   "cell_type": "code",
   "execution_count": 5,
   "metadata": {},
   "outputs": [],
   "source": [
    "# Calculate metrics\n",
    "accuracy = accuracy_score(y_test, y_pred)\n",
    "precision = precision_score(y_test, y_pred, pos_label='spam', average='binary')\n",
    "recall = recall_score(y_test, y_pred, pos_label='spam', average='binary')\n",
    "f1 = f1_score(y_test, y_pred, pos_label='spam', average='binary')"
   ]
  },
  {
   "cell_type": "code",
   "execution_count": 6,
   "metadata": {},
   "outputs": [
    {
     "name": "stdout",
     "output_type": "stream",
     "text": [
      "Accuracy: 0.9757847533632287\n",
      "Precision: 0.9403973509933775\n",
      "Recall: 0.8875\n",
      "F1 Score: 0.9131832797427653\n"
     ]
    }
   ],
   "source": [
    "# Print the metrics\n",
    "print(f\"Accuracy: {accuracy}\")\n",
    "print(f\"Precision: {precision}\")\n",
    "print(f\"Recall: {recall}\")\n",
    "print(f\"F1 Score: {f1}\")\n"
   ]
  }
 ],
 "metadata": {
  "kernelspec": {
   "display_name": "Python 3",
   "language": "python",
   "name": "python3"
  },
  "language_info": {
   "codemirror_mode": {
    "name": "ipython",
    "version": 3
   },
   "file_extension": ".py",
   "mimetype": "text/x-python",
   "name": "python",
   "nbconvert_exporter": "python",
   "pygments_lexer": "ipython3",
   "version": "3.11.3"
  }
 },
 "nbformat": 4,
 "nbformat_minor": 2
}
